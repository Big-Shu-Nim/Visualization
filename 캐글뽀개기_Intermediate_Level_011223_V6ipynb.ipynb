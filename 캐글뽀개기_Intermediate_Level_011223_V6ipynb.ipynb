{
  "nbformat": 4,
  "nbformat_minor": 0,
  "metadata": {
    "colab": {
      "provenance": [],
      "authorship_tag": "ABX9TyMYQAzgrB8lOL3sum0zsRDk",
      "include_colab_link": true
    },
    "kernelspec": {
      "name": "python3",
      "display_name": "Python 3"
    },
    "language_info": {
      "name": "python"
    }
  },
  "cells": [
    {
      "cell_type": "markdown",
      "metadata": {
        "id": "view-in-github",
        "colab_type": "text"
      },
      "source": [
        "<a href=\"https://colab.research.google.com/github/Big-Shu-Nim/Visualization/blob/main/%EC%BA%90%EA%B8%80%EB%BD%80%EA%B0%9C%EA%B8%B0_Intermediate_Level_011223_V6ipynb.ipynb\" target=\"_parent\"><img src=\"https://colab.research.google.com/assets/colab-badge.svg\" alt=\"Open In Colab\"/></a>"
      ]
    },
    {
      "cell_type": "markdown",
      "source": [
        "#요약\n",
        "이 노트북은 캐글뽀개기(2021)의 137-158의 내용을 학습한 주피터 노트북입니다.\n",
        "\n",
        "#공부시간\n",
        "캐글뽀개기\n",
        "Scheduled: Jan 8, 2023 5:45 PM to 6:45 PM, GMT+9\n",
        "\n",
        "캐글뽀개기\n",
        "Scheduled: Jan 10, 2023 1:10 PM to 1:30 PM, GMT+9\n",
        "\n",
        "캐글뽀개기\n",
        "Scheduled: Jan 10, 2023 9:30 PM to 11:00 PM, GMT+9\n",
        "\n",
        "캐글뽀개기\n",
        "Scheduled: Jan 11, 2023 8:00 AM to 9:00 AM, GMT+9\n",
        "\n",
        "캐글뽀개기\n",
        "Scheduled: Jan 12, 2023 8:00 AM to 9:00 AM, GMT+9\n",
        "\n",
        "캐글뽀개기\n",
        "Scheduled: Jan 12, 2023 9:30 PM to 10:30 PM, GMT+9\n",
        "\n",
        "캐글뽀개기\n",
        "Scheduled: Jan 12, 2023 10:30 PM to 10:50 PM, GMT+9\n",
        "\n",
        "\n",
        "# 한줄평\n",
        "  어떤 기술을 더 배워야할지 그리고 어떻게 하면 지속적으로 할수있을지 좋은 가이드같은 공부였다."
      ],
      "metadata": {
        "id": "WNueBRgXO0zO"
      }
    },
    {
      "cell_type": "code",
      "execution_count": null,
      "metadata": {
        "colab": {
          "base_uri": "https://localhost:8080/"
        },
        "id": "Gd_Oh509wKJ-",
        "outputId": "a10605da-7d8f-4f36-fe6d-f1993cb305ae"
      },
      "outputs": [
        {
          "output_type": "stream",
          "name": "stdout",
          "text": [
            "Mounted at /content/drive\n"
          ]
        }
      ],
      "source": [
        "# # 다음을 실행하면 authorization code 입력을 요청받습니다.\n",
        "# # 출력된 링크를 클릭하고 Google 계정으로 로그인한 뒤,\n",
        "# # authorization code를 복사해서 붙여 넣습니다.\n",
        "import os\n",
        "from google.colab import drive\n",
        "drive.mount('/content/drive')"
      ]
    },
    {
      "cell_type": "code",
      "source": [
        "#working_dir = 'MLSys_100Knocks' #　※※ 여러분이 만든 폴더 경로가 다를 때는 다음을 변경합니다. ※※\n",
        "path = f'/content/drive/MyDrive/캐글뽀개기'\n",
        "os.chdir(path)"
      ],
      "metadata": {
        "id": "Wbz2NP-QwdRH"
      },
      "execution_count": null,
      "outputs": []
    },
    {
      "cell_type": "markdown",
      "source": [
        "\n",
        "# 중급자의 기준\n",
        "- 다른사람의 코드를 보고 응용 할 수 있는가?\n",
        "- 라이브러리 공식 홈페이지에서 원하는 옵션을 찾아서 사용 할 수 있는가?\n",
        "- 구글링틍 통해 에러 코드를 해결할 수 있는가\n",
        "\n"
      ],
      "metadata": {
        "id": "8GQySKkXwiY6"
      }
    },
    {
      "cell_type": "markdown",
      "source": [
        "# 파이썬 시각화 공부를 본격적으로 하는 분들에게 추천하는 블로그\n",
        "https://jechyunlee.github.io\n",
        "코드난이도 \n",
        "4\n",
        "내용\n",
        "5\n",
        "작품성\n",
        "5\n",
        "\n"
      ],
      "metadata": {
        "id": "wPvrVRYYwxbg"
      }
    },
    {
      "cell_type": "code",
      "source": [
        "import matplotlib.pyplot as plt\n",
        "from matplotlib.ticker import(MultipleLocator, AutoMinorLocator, FuncFormatter)\n",
        "import seaborn as sns\n",
        "import numpy as np\n"
      ],
      "metadata": {
        "id": "e2sW5OLUxT6I"
      },
      "execution_count": null,
      "outputs": []
    },
    {
      "cell_type": "markdown",
      "source": [
        "matplotlib.ticker \n",
        "  - ticker은 축의 눈금을 말합니다.\n",
        "    - 즉 축의 눈금을 미세 조정하도록 클래스가 존재하며\n",
        "    - 주 눈금은 대개 set_major_locator()함수를 활용해 설정하고\n",
        "      -예를 들어 set_major_locater(MultipleLocator(1))는 주요\n",
        "       눈금의 단위를 1씩 변경한다는 뜻입니다.\n",
        "    - 보조 눈금은 set_minor_locator()함수를 활용할 수 있습니다.\n",
        "      -set_minor_locator(MultipleLocator((0.5))는 보조 눈금을 \n",
        "       0.5 단위로 주요 눈금 사이에 추가한다는 뜻입니다.\n",
        "  - MultipleLocator는 눈금을 파라미터 값만큼 표시한다는 뜻입니다.\n",
        "  - AutoMinorLocator는 두 개의 주 눈금 사이의 보조 눈금을 4-5개씩 배치하는 것을 의미합니다. \n",
        "  - FuncFormatter는 사용자 정의 함수로 구현된 label의 세팅을 사용하도록 도와줍니다. "
      ],
      "metadata": {
        "id": "niVSdRklxAIM"
      }
    },
    {
      "cell_type": "code",
      "source": [
        "\n",
        "def plot_example(ax, zorder=0): #  ax 파라미터는 plt.subplots()의 ax객체를 의미하며, 시각화 결과값을 ax로 반환하겠다는 뜻도 있습니다.\n",
        "  # zorder 파라미터는 그래프의 격자가 막대그래프 위로 지나갑니다. \n",
        "    ax.bar(tips_day[\"day\"], tips_day[\"tip\"], color=\"lightgray\", zorder=zorder)\n",
        "    # ax.bar 는 matplotlib의 막대그래프를 의미하는 함수이며, x축과 y축을 가각 입력한 색상은 lightgray로 지정합니다. \n",
        "    ax.set_title(\"tip (mean)\", fontsize=16, pad=12)\n",
        "\n",
        "    # Values\n",
        "    v_pad = 0.1  # 막대 그래프 위에 글자를 세기잖아요? 그럼 행과 행사이에 간격이 생기는데 이걸 컨트롤 하기 위해서 선언한 변수에요. \n",
        "    for i in range(4):\n",
        "        fontweight = \"normal\"\n",
        "        color = \"k\" # black color m, , \n",
        "        if i == 3:\n",
        "            fontweight = \"bold\"\n",
        "            color = \"darkred\"\n",
        "\n",
        "        ax.text(i, tips_day[\"tip\"].loc[i] + v_pad, f\"{tips_day['tip'].loc[i]:0.2f}\",  # f-string 문자열 포맷팅입니다. 4개의 다른 수치를 일일히 다르게 입력하기 보단 이렇게 함으로써 자동으로 1-4개를 작성할수 있죠.\n",
        "                horizontalalignment='center', fontsize=12, fontweight=fontweight, color=color)\n",
        "    #반복문을 사용하는 기존과 마찬가지로 각각의 숫자를 막대그래프 위에 표시하기 위해서\n",
        "    # if조건문의 내용은 sunday에 해당하는 숫자는 대비하는 색상을 나타내도록 lightgray로 지정합니다.\n",
        "    # Sunday\n",
        "    ax.patches[3].set_facecolor(\"darkred\")\n",
        "    # 4번째 그래프를 의미하며 면과선을 darkgrid 와 black으로 지정한다는 뜻입니다.\n",
        "    ax.patches[3].set_edgecolor(\"black\")\n",
        "\n",
        "    # set_range\n",
        "    ax.set_ylim(0, 4) # y축의 범위를 지정합니다 (시작, 끝)\n",
        "    return ax"
      ],
      "metadata": {
        "id": "SzfDs8fojmZU"
      },
      "execution_count": null,
      "outputs": []
    },
    {
      "cell_type": "markdown",
      "source": [
        "# F-String에 대해서 \n",
        "\n",
        "* 문자열 맨 앞에 f를 붙이고 , 출력할 변수, 값을 중괄호 안에 넣습니다. \n",
        "* 리스트, 딕셔너리와 함께 사용가능합니다. "
      ],
      "metadata": {
        "id": "vPL6B3PZHEde"
      }
    },
    {
      "cell_type": "code",
      "source": [
        "s= 'coffee'\n",
        "n = 5\n",
        "result1= f'저는 {s}를 좋아합니다. 하루 {n}잔을 마셔요.'\n",
        "print(result1)"
      ],
      "metadata": {
        "colab": {
          "base_uri": "https://localhost:8080/"
        },
        "id": "bpsR49clI9oP",
        "outputId": "cab0b433-c832-4320-bf8c-c0c20b173e45"
      },
      "execution_count": null,
      "outputs": [
        {
          "output_type": "stream",
          "name": "stdout",
          "text": [
            "저는 coffee를 좋아합니다. 하루 5잔을 마셔요.\n"
          ]
        }
      ]
    },
    {
      "cell_type": "markdown",
      "source": [
        "그래프를 함수로 만드는 이유\n",
        "  본 블로그에서 사전에 정의된 함수를 통해서 구현한후, 나부지 세부 조정은\n",
        "  spines 와 grid에 집중하기 위해서입니다. "
      ],
      "metadata": {
        "id": "IlrqHZKcl7fR"
      }
    },
    {
      "cell_type": "code",
      "source": [
        "# major_formatter함수\n",
        "\n",
        "def major_formatter(x, pos):  # 이 두개의 파라미터는 FuncFormatter클래스에서 필수적으로 요구하는 것입니다.\n",
        "  return\"{%.2f}\"%x   # 이 객체 formatter는 추후에 set_major_formatter() 함수의 입력값에 들어갑니다. \n",
        "formatter=FuncFormatter(major_formatter)\n"
      ],
      "metadata": {
        "id": "lv_ejJ36mNvt"
      },
      "execution_count": null,
      "outputs": []
    },
    {
      "cell_type": "code",
      "source": [
        "# 시각화 데이터 불러오기\n",
        "\n",
        "tips=sns.load_dataset('tips')\n",
        "tips_day=tips.groupby('day').mean().reset_index()\n",
        "print(tips_day)\n",
        "\n"
      ],
      "metadata": {
        "colab": {
          "base_uri": "https://localhost:8080/"
        },
        "id": "enMFOz5Pm0Ov",
        "outputId": "dbfeeb07-f7d1-4029-c07f-07ba14fd3cab"
      },
      "execution_count": null,
      "outputs": [
        {
          "output_type": "stream",
          "name": "stdout",
          "text": [
            "    day  total_bill       tip      size\n",
            "0  Thur   17.682742  2.771452  2.451613\n",
            "1   Fri   17.151579  2.734737  2.105263\n",
            "2   Sat   20.441379  2.993103  2.517241\n",
            "3   Sun   21.410000  3.255132  2.842105\n"
          ]
        }
      ]
    },
    {
      "cell_type": "code",
      "source": [
        "fig, ax= plt.subplots()\n",
        "ax=plot_example(ax, zorder=2)"
      ],
      "metadata": {
        "colab": {
          "base_uri": "https://localhost:8080/",
          "height": 289
        },
        "id": "JjwB4iGwnTBz",
        "outputId": "4cf8dc83-cdb5-45d8-e055-9db2813a5ea4"
      },
      "execution_count": null,
      "outputs": [
        {
          "output_type": "display_data",
          "data": {
            "text/plain": [
              "<Figure size 432x288 with 1 Axes>"
            ],
            "image/png": "[encoded data removed]"
          },
          "metadata": {
            "needs_background": "light"
          }
        }
      ]
    },
    {
      "cell_type": "code",
      "source": [
        "# spine 제거\n",
        "fig, ax= plt.subplots()\n",
        "ax=plot_example(ax, zorder=2)\n",
        "# spine는 척추라는 뜻이지만 시각화에서는 \"좌표의 테두리\" 로 이해합니다. \n",
        "# 그러한 역할을 하는 코드가 ax.spines()함수이고 \n",
        "# 사각형을 기준으로 상하좌우 테두리에 해당하는 영역을 지칭한 뒤\n",
        "# set_visible()을 True/False 로 지정할수 있습니다.\n",
        "# 기본값은 True 입니다. \n",
        "ax.spines[\"top\"].set_visible(False)\n",
        "ax.spines[\"right\"].set_visible(False)\n",
        "ax.spines[\"left\"].set_visible(False)"
      ],
      "metadata": {
        "colab": {
          "base_uri": "https://localhost:8080/",
          "height": 289
        },
        "id": "z2ZyRU_Jni4t",
        "outputId": "a40aa230-824e-4085-9c1a-ff25813556d5"
      },
      "execution_count": null,
      "outputs": [
        {
          "output_type": "display_data",
          "data": {
            "text/plain": [
              "<Figure size 432x288 with 1 Axes>"
            ],
            "image/png": "[encoded data removed]"
          },
          "metadata": {
            "needs_background": "light"
          }
        }
      ]
    },
    {
      "cell_type": "code",
      "source": [
        "# 주요눈금과 보조눈금 설정\n",
        "fig, ax= plt.subplots()\n",
        "ax=plot_example(ax, zorder=2)\n",
        "\n",
        "ax.spines[\"top\"].set_visible(False)\n",
        "ax.spines[\"right\"].set_visible(False)\n",
        "ax.spines[\"left\"].set_visible(False)\n",
        "\n",
        "ax.yaxis.set_major_locator(MultipleLocator(1))  # 주요 눈금의 단위를 1씩 변경한다는 뜻입니다.\n",
        "ax.yaxis.set_major_formatter(formatter)  # 앞서 정의된 라벨의 형태를 눈금에 추가합니다. \n",
        "ax.yaxis.set_minor_locator(MultipleLocator(0.5)) # 보조 눈금을 0.5 단위로 주요 눈금사이에 추가한다는 말입니다.\n"
      ],
      "metadata": {
        "colab": {
          "base_uri": "https://localhost:8080/",
          "height": 289
        },
        "id": "IByRDuoLM3ep",
        "outputId": "38118db7-bdf1-4119-af84-8e1387682cb5"
      },
      "execution_count": null,
      "outputs": [
        {
          "output_type": "display_data",
          "data": {
            "text/plain": [
              "<Figure size 432x288 with 1 Axes>"
            ],
            "image/png": "[encoded data removed]"
          },
          "metadata": {
            "needs_background": "light"
          }
        }
      ]
    },
    {
      "cell_type": "code",
      "source": [
        "# 격자 추가 \n",
        "fig, ax= plt.subplots()\n",
        "ax=plot_example(ax, zorder=2)\n",
        "\n",
        "ax.spines[\"top\"].set_visible(False)\n",
        "ax.spines[\"right\"].set_visible(False)\n",
        "ax.spines[\"left\"].set_visible(False)\n",
        "\n",
        "ax.yaxis.set_major_locator(MultipleLocator(1))  # 주요 눈금의 단위를 1씩 변경한다는 뜻입니다.\n",
        "ax.yaxis.set_major_formatter(formatter)  # 앞서 정의된 라벨의 형태를 눈금에 추가합니다. \n",
        "ax.yaxis.set_minor_locator(MultipleLocator(0.5)) # 보조 눈금을 0.5 단위로 주요 눈금사이에 추가한다는 말입니다.\n",
        "\n",
        "ax.grid(axis='y', which='major', color='lightgray')\n",
        "ax.grid(axis='y', which='minor', ls=\":\")  # ls 는 LineStyle의 줄임말입니다. '-', '--', '-,','':\" 등이 있습니다. "
      ],
      "metadata": {
        "colab": {
          "base_uri": "https://localhost:8080/",
          "height": 289
        },
        "id": "dGhTgTuIotG9",
        "outputId": "8d89c5f4-bc7a-45ba-daa0-f062c357fd4b"
      },
      "execution_count": null,
      "outputs": [
        {
          "output_type": "display_data",
          "data": {
            "text/plain": [
              "<Figure size 432x288 with 1 Axes>"
            ],
            "image/png": "[encoded data removed]"
          },
          "metadata": {
            "needs_background": "light"
          }
        }
      ]
    },
    {
      "cell_type": "code",
      "source": [
        "#응용코드\n",
        "\n",
        "tips=sns.load_dataset('tips')\n",
        "fig, ax=plt.subplots(nrows=1, ncols=2, figsize=(16,5))\n",
        "\n",
        "#ideal bar graph\n",
        "ax0=sns.barplot(x='day', y='total_bill', data=tips,\n",
        "                ci=None, color='lightgray', alpha=0.85, zorder=2, ax=ax[0])\n",
        "\n"
      ],
      "metadata": {
        "colab": {
          "base_uri": "https://localhost:8080/",
          "height": 338
        },
        "id": "Aa09LRzypy-X",
        "outputId": "a909a3f9-6d22-4512-e5e1-c545709e7a4f"
      },
      "execution_count": null,
      "outputs": [
        {
          "output_type": "display_data",
          "data": {
            "text/plain": [
              "<Figure size 1152x360 with 2 Axes>"
            ],
            "image/png": "[encoded data removed]"
          },
          "metadata": {
            "needs_background": "light"
          }
        }
      ]
    },
    {
      "cell_type": "code",
      "source": [
        "group_mean=tips.groupby(['day'])['total_bill'].agg('mean')\n",
        "h_day=group_mean.sort_values(ascending=False).index[0]  # 평균가를 내림차순 한 날 중에 제일 첫번째를 선언합니다.\n",
        "h_mean=np.round(group_mean.sort_values(ascending=False)[0], 2) # 평균가를 내림 한 값 중에 제일 첫번째를 선업합니다. 평균가이기때문에 소수 둘째자리에서 반올림 해줍니다.\n",
        "print(\"The Best Day:\", h_day)\n",
        "print('The Highest Avg. Total Bill', h_mean)"
      ],
      "metadata": {
        "colab": {
          "base_uri": "https://localhost:8080/"
        },
        "id": "OkGX1G9ePoCz",
        "outputId": "e56f06e0-174c-4e01-a2f5-0c4e5a3ecb16"
      },
      "execution_count": null,
      "outputs": [
        {
          "output_type": "stream",
          "name": "stdout",
          "text": [
            "The Best Day: Sun\n",
            "The Highest Avg. Total Bill 21.41\n"
          ]
        }
      ]
    },
    {
      "cell_type": "markdown",
      "source": [
        "**ci** parameter controls the size of confidence intervals to draw around estimated values (Note that if you want to draw the standard deviation of the observations, you should pass ci=\"sd\" ). Additionally, you can change the width of the caps on error bars with the capsize parameter."
      ],
      "metadata": {
        "id": "rEYtZD-aPHkq"
      }
    },
    {
      "cell_type": "code",
      "source": [
        "#응용코드\n",
        "\n",
        "tips=sns.load_dataset('tips')\n",
        "fig, ax=plt.subplots(nrows=1, ncols=2, figsize=(16,5))\n",
        "\n",
        "#ideal bar graph\n",
        "ax0=sns.barplot(x='day', y='total_bill', data=tips,\n",
        "                ci=None, color='lightgray', alpha=0.85, zorder=2, ax=ax[0])\n",
        "\n",
        "group_mean=tips.groupby(['day'])['total_bill'].agg('mean') # 날짜별로 평균을 낸것인데요. ['total_bill']를 써줌으로써 모든 칼럼에 대한 평균을 낸게 아니라 하나만 냈습니다. \n",
        "h_day=group_mean.sort_values(ascending=False).index[0]  # 변수 h_day는 x축의 글자 색상을 추가 할때 조건문으로 사용하고\n",
        "h_mean=np.round(group_mean.sort_values(ascending=False)[0], 2) # 막대그래프의 색상을 추가 할때 조건문에 사용합니다. \n",
        "print(\"The Best Day:\", h_day)\n",
        "print(\"The Highest Avg. Total Bill:\", h_mean)"
      ],
      "metadata": {
        "colab": {
          "base_uri": "https://localhost:8080/",
          "height": 373
        },
        "id": "RMP6eEjRqbis",
        "outputId": "4a80a925-5c62-406a-afff-c16362855b4c"
      },
      "execution_count": null,
      "outputs": [
        {
          "output_type": "stream",
          "name": "stdout",
          "text": [
            "The Best Day: Sun\n",
            "The Highest Avg. Total Bill: 21.41\n"
          ]
        },
        {
          "output_type": "display_data",
          "data": {
            "text/plain": [
              "<Figure size 1152x360 with 2 Axes>"
            ],
            "image/png": "[encoded data removed]"
          },
          "metadata": {
            "needs_background": "light"
          }
        }
      ]
    },
    {
      "cell_type": "code",
      "source": [
        "#응용코드\n",
        "\n",
        "tips=sns.load_dataset('tips')\n",
        "fig, ax=plt.subplots(nrows=1, ncols=2, figsize=(16,5))\n",
        "\n",
        "#ideal bar graph\n",
        "ax0=sns.barplot(x='day', y='total_bill', data=tips,\n",
        "                ci=None, color='lightgray', alpha=0.85, zorder=2, ax=ax[0])\n",
        "\n",
        "group_mean=tips.groupby(['day'])['total_bill'].agg('mean')\n",
        "h_day=group_mean.sort_values(ascending=False).index[0]\n",
        "h_mean=np.round(group_mean.sort_values(ascending=False)[0], 2)\n",
        "print(\"The Best Day:\", h_day)\n",
        "print(\"The Highest Avg. Total Bill:\", h_mean)\n",
        "\n",
        "# 바를 꾸미기 위해서 반복을 하지만 이번 코드에서는 h_mean과 Height가 일치할 때만 색상을 추가하도록 코드를 살짝 변형합니다. \n",
        "for p in ax0.patches:\n",
        "  fontweight=\"normal\"\n",
        "  color='k'\n",
        "  height=np.round(p.get_height(), 2)\n",
        "  if h_mean==height:\n",
        "    fontweight='bold'\n",
        "    color='darkred'\n",
        "    p.set_facecolor(color)\n",
        "    p.set_edgecolor('black')\n",
        "  ax0.text(p.get_x()+p.get_width()/2., height+0.2, height, ha='center',\n",
        "           size=12, fontweight=fontweight, color=color)\n",
        "\n",
        "\n",
        "fig.show()"
      ],
      "metadata": {
        "colab": {
          "base_uri": "https://localhost:8080/",
          "height": 373
        },
        "id": "JsGgz4I6rvN9",
        "outputId": "38c20e12-c8aa-4919-91f8-80d640e296f8"
      },
      "execution_count": null,
      "outputs": [
        {
          "output_type": "stream",
          "name": "stdout",
          "text": [
            "The Best Day: Sun\n",
            "The Highest Avg. Total Bill: 21.41\n"
          ]
        },
        {
          "output_type": "display_data",
          "data": {
            "text/plain": [
              "<Figure size 1152x360 with 2 Axes>"
            ],
            "image/png": "[encoded data removed]"
          },
          "metadata": {
            "needs_background": "light"
          }
        }
      ]
    },
    {
      "cell_type": "code",
      "source": [
        "#응용코드\n",
        "\n",
        "tips=sns.load_dataset('tips')\n",
        "fig, ax=plt.subplots(nrows=1, ncols=2, figsize=(16,5))\n",
        "\n",
        "#ideal bar graph\n",
        "ax0=sns.barplot(x='day', y='total_bill', data=tips,\n",
        "                ci=None, color='lightgray', alpha=0.85, zorder=2, ax=ax[0])\n",
        "\n",
        "group_mean=tips.groupby(['day'])['total_bill'].agg('mean')\n",
        "h_day=group_mean.sort_values(ascending=False).index[0]\n",
        "h_mean=np.round(group_mean.sort_values(ascending=False)[0], 2)\n",
        "print(\"The Best Day:\", h_day)\n",
        "print(\"The Highest Avg. Total Bill:\", h_mean)\n",
        "\n",
        "for p in ax0.patches:\n",
        "  fontweight=\"normal\"\n",
        "  color='k'\n",
        "  height=np.round(p.get_height(), 2)\n",
        "  if h_mean==height:\n",
        "    fontweight='bold'\n",
        "    color='darkred'\n",
        "    p.set_facecolor(color)\n",
        "    p.set_edgecolor('black')\n",
        "  ax0.text(p.get_x()+p.get_width()/2., height+0.2, height, ha='center',\n",
        "           size=12, fontweight=fontweight, color=color)\n",
        "\n",
        "ax0.set_ylim(-3, 30)\n",
        "ax0.set_title('Ideal bar Graph', size=16)\n",
        "\n",
        "ax0.spines['top'].set_visible(False)\n",
        "ax0.spines['left'].set_position(('outward', 20)) # x축과 y축이 만나는 점에서 우측으로 20만큼 축의 그림을 삭제한 것과 같습니다.\n",
        "ax0.spines['left'].set_visible(False)\n",
        "ax0.spines['right'].set_visible(False)\n",
        "\n",
        "ax0.yaxis.set_major_locator(MultipleLocator(10))\n",
        "ax0.yaxis.set_major_formatter(formatter)\n",
        "ax0.yaxis.set_minor_locator(MultipleLocator(5))\n",
        "\n",
        "ax0.set_ylabel(\"avg. Total Bill($)\", fontsize=14)\n",
        "\n",
        "ax0.grid(axis='y', which='major', color='lightgray')\n",
        "ax0.grid(axis='y', which='minor', ls=\":\")\n",
        "\n",
        "ax0.set_xlabel('Weekday', fontsize=14)\n",
        "for xtick in ax0.get_xticklabels(): #  h_day와 일치할때 만 x축 눈금에 표시된 글자의 색상 및 두께를  변경합니다.\n",
        "  if xtick.get_text()==h_day:\n",
        "    xtick.set_color('darkred')\n",
        "    xtick.set_fontweight('demibold')\n",
        "ax0.set_xticklabels(['Thursday', 'Friday', 'Saturday', 'Sunday'], size=12) #각 요일을 수동을 변경합니다. \n",
        "\n",
        "ax1=sns.barplot(x='day', y='total_bill', data=tips,\n",
        "                ci=None, alpha=0.85,\n",
        "                ax=ax[1])\n",
        "for p in ax1.patches:\n",
        "  height = np.round(p.get_height(), 2)\n",
        "  ax1.text(p.get_x()+p.get_width()/2., height+0.5, height, ha='center', size=12)\n",
        "ax1.set_ylim(-3,30)\n",
        "ax1.set_title(\"Just Bar graph\")\n",
        "fig.show()"
      ],
      "metadata": {
        "colab": {
          "base_uri": "https://localhost:8080/",
          "height": 394
        },
        "id": "1TmInxVdtWuv",
        "outputId": "1cdf91a4-f950-4e44-b51d-167be0f5bb03"
      },
      "execution_count": null,
      "outputs": [
        {
          "output_type": "stream",
          "name": "stdout",
          "text": [
            "The Best Day: Sun\n",
            "The Highest Avg. Total Bill: 21.41\n"
          ]
        },
        {
          "output_type": "display_data",
          "data": {
            "text/plain": [
              "<Figure size 1152x360 with 2 Axes>"
            ],
            "image/png": "[encoded data removed]"
          },
          "metadata": {
            "needs_background": "light"
          }
        }
      ]
    }
  ]
}